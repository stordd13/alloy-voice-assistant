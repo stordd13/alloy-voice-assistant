{
 "cells": [
  {
   "cell_type": "code",
   "execution_count": null,
   "metadata": {},
   "outputs": [
    {
     "ename": "",
     "evalue": "",
     "output_type": "error",
     "traceback": [
      "\u001b[1;31mRunning cells with '.venv (Python 3.11.4)' requires the ipykernel package.\n",
      "\u001b[1;31mRun the following command to install 'ipykernel' into the Python environment. \n",
      "\u001b[1;31mCommand: 'c:/Users/bstordeur/Documents/alloy-voice-assistant/.venv/Scripts/python.exe -m pip install ipykernel -U --force-reinstall'"
     ]
    }
   ],
   "source": [
    "import base64\n",
    "from threading import Lock, Thread\n",
    "\n",
    "import cv2\n",
    "import openai\n",
    "from cv2 import VideoCapture, imencode\n",
    "from dotenv import load_dotenv\n",
    "from langchain.prompts import ChatPromptTemplate, MessagesPlaceholder\n",
    "from langchain.schema.messages import SystemMessage\n",
    "from langchain_community.chat_message_histories import ChatMessageHistory\n",
    "from langchain_core.output_parsers import StrOutputParser\n",
    "from langchain_core.runnables.history import RunnableWithMessageHistory\n",
    "from langchain_openai import ChatOpenAI\n",
    "from langchain_google_genai import ChatGoogleGenerativeAI\n",
    "from pyaudio import PyAudio, paInt16\n",
    "from speech_recognition import Microphone, Recognizer, UnknownValueError\n",
    "\n",
    "load_dotenv()\n"
   ]
  },
  {
   "cell_type": "code",
   "execution_count": null,
   "metadata": {},
   "outputs": [],
   "source": [
    "class WebcamStream:\n",
    "    def __init__(self):\n",
    "        self.stream = VideoCapture(index=0)\n",
    "        _, self.frame = self.stream.read()\n",
    "        self.runnig = False\n",
    "        self.lock = Lock()\n",
    "    \n",
    "    def start(self):\n",
    "\n",
    "        if self.running:\n",
    "            return self\n",
    "        \n",
    "        self.running = True\n",
    "\n",
    "        self.thread = Thread(target=self.update, args=())\n",
    "        self.thread.start()\n",
    "        return self\n",
    "    \n",
    "    def update(self):\n",
    "        while self.running:\n",
    "            _, frame = self.stream.read()\n",
    "\n",
    "            self.lock.acquire()\n",
    "            self.frame = frame\n",
    "            self.lock.release()\n",
    "    \n",
    "    def read(self, encode=False):\n",
    "        self.lock.acquire()\n",
    "        frame = self.frame.copy()\n",
    "        self.lock.release()\n",
    "\n",
    "        if encode:\n",
    "            _, buffer = imencode(\".jpeg\", frame)\n",
    "            return base64.b64encode(buffer)\n",
    "    \n",
    "        return frame\n",
    "    \n",
    "    def stop(self):\n",
    "        self.running = False\n",
    "        if self.thread.is_alive():\n",
    "            self.thread.join()\n",
    "        \n",
    "    def __exit__(self, exc_type, exc_value, exc_traceback):\n",
    "        self.stream.realease()"
   ]
  }
 ],
 "metadata": {
  "kernelspec": {
   "display_name": ".venv",
   "language": "python",
   "name": "python3"
  },
  "language_info": {
   "name": "python",
   "version": "3.11.4"
  }
 },
 "nbformat": 4,
 "nbformat_minor": 2
}
